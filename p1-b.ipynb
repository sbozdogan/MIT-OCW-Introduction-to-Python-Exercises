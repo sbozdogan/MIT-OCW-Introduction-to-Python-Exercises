{
 "cells": [
  {
   "cell_type": "code",
   "execution_count": 1,
   "metadata": {},
   "outputs": [
    {
     "name": "stdout",
     "output_type": "stream",
     "text": [
      "Enter your starting annual salary: 120000\n"
     ]
    }
   ],
   "source": [
    "#Inputs\n",
    "annual_salary = int(input(\"Enter your starting annual salary: \"))"
   ]
  },
  {
   "cell_type": "code",
   "execution_count": 2,
   "metadata": {},
   "outputs": [
    {
     "name": "stdout",
     "output_type": "stream",
     "text": [
      "Enter the percent of your salary to save, as a decimal: .05\n"
     ]
    }
   ],
   "source": [
    "portion_saved = float(input(\"Enter the percent of your salary to save, as a decimal: \"))"
   ]
  },
  {
   "cell_type": "code",
   "execution_count": 3,
   "metadata": {},
   "outputs": [
    {
     "name": "stdout",
     "output_type": "stream",
     "text": [
      "Enter the cost of your dream home: 500000\n"
     ]
    }
   ],
   "source": [
    "total_cost = int(input(\"Enter the cost of your dream home: \"))"
   ]
  },
  {
   "cell_type": "code",
   "execution_count": 4,
   "metadata": {},
   "outputs": [
    {
     "name": "stdout",
     "output_type": "stream",
     "text": [
      "Enter the semi-annual raise, as a decimal: .03\n"
     ]
    }
   ],
   "source": [
    "semi_annual_rise = float(input(\"Enter the semi-annual raise, as a decimal: \"))"
   ]
  },
  {
   "cell_type": "code",
   "execution_count": 5,
   "metadata": {},
   "outputs": [],
   "source": [
    "#Calculation"
   ]
  },
  {
   "cell_type": "code",
   "execution_count": 6,
   "metadata": {},
   "outputs": [],
   "source": [
    "monthly_saved = (annual_salary / 12.0) * portion_saved"
   ]
  },
  {
   "cell_type": "code",
   "execution_count": 7,
   "metadata": {},
   "outputs": [],
   "source": [
    "portion_down_payment = total_cost * 0.25"
   ]
  },
  {
   "cell_type": "code",
   "execution_count": 8,
   "metadata": {},
   "outputs": [],
   "source": [
    "#Other inputs"
   ]
  },
  {
   "cell_type": "code",
   "execution_count": 9,
   "metadata": {},
   "outputs": [],
   "source": [
    "current_savings = 0\n",
    "annual_return = 0.04\n",
    "months = 0"
   ]
  },
  {
   "cell_type": "code",
   "execution_count": 10,
   "metadata": {},
   "outputs": [],
   "source": [
    "#Calculation loop\n",
    "while current_savings < portion_down_payment:\n",
    "    months += 1\n",
    "    monthly_return = current_savings * (annual_return / 12)\n",
    "    current_savings += monthly_return + monthly_saved\n",
    "        \n",
    "    if months % 6 == 0:\n",
    "        annual_salary += annual_salary * semi_annual_rise\n",
    "        monthly_saved = (annual_salary / 12.0) * portion_saved"
   ]
  },
  {
   "cell_type": "code",
   "execution_count": 12,
   "metadata": {},
   "outputs": [
    {
     "name": "stdout",
     "output_type": "stream",
     "text": [
      "Number of months:   142\n"
     ]
    }
   ],
   "source": [
    "#output\n",
    "print(\"Number of months:  \" , months)"
   ]
  },
  {
   "cell_type": "code",
   "execution_count": null,
   "metadata": {},
   "outputs": [],
   "source": []
  }
 ],
 "metadata": {
  "kernelspec": {
   "display_name": "Python 3",
   "language": "python",
   "name": "python3"
  },
  "language_info": {
   "codemirror_mode": {
    "name": "ipython",
    "version": 3
   },
   "file_extension": ".py",
   "mimetype": "text/x-python",
   "name": "python",
   "nbconvert_exporter": "python",
   "pygments_lexer": "ipython3",
   "version": "3.8.5"
  }
 },
 "nbformat": 4,
 "nbformat_minor": 2
}
