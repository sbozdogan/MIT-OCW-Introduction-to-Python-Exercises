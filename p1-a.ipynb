{
 "cells": [
  {
   "cell_type": "code",
   "execution_count": 1,
   "metadata": {},
   "outputs": [
    {
     "name": "stdout",
     "output_type": "stream",
     "text": [
      "Enter your annual salary: 120000\n"
     ]
    }
   ],
   "source": [
    "annual_salary = int(input(\"Enter your annual salary: \"))"
   ]
  },
  {
   "cell_type": "code",
   "execution_count": 2,
   "metadata": {},
   "outputs": [
    {
     "name": "stdout",
     "output_type": "stream",
     "text": [
      "Enter the percent of your salary to save, as a decimal: .10\n"
     ]
    }
   ],
   "source": [
    "portion_saved = float(input(\"Enter the percent of your salary to save, as a decimal: \"))"
   ]
  },
  {
   "cell_type": "code",
   "execution_count": 3,
   "metadata": {},
   "outputs": [
    {
     "name": "stdout",
     "output_type": "stream",
     "text": [
      "Enter the cost of your dream home: 1000000\n"
     ]
    }
   ],
   "source": [
    "total_cost = int(input(\"Enter the cost of your dream home: \"))"
   ]
  },
  {
   "cell_type": "code",
   "execution_count": 5,
   "metadata": {},
   "outputs": [],
   "source": [
    "#Calculation part\n",
    "portion_down_payment = 0.25 * total_cost\n",
    "current_savings = 0\n",
    "months = 0\n",
    "annual_return = 0.04"
   ]
  },
  {
   "cell_type": "code",
   "execution_count": 6,
   "metadata": {},
   "outputs": [],
   "source": [
    "monthly_saved = (annual_salary / 12.0) * portion_saved"
   ]
  },
  {
   "cell_type": "code",
   "execution_count": 7,
   "metadata": {},
   "outputs": [],
   "source": [
    "#Calculation loop\n",
    "while current_savings < portion_down_payment:\n",
    "    months += 1\n",
    "    monthly_return = current_savings * (annual_return / 12)\n",
    "    current_savings += monthly_return + monthly_saved\n"
   ]
  },
  {
   "cell_type": "code",
   "execution_count": 8,
   "metadata": {},
   "outputs": [
    {
     "name": "stdout",
     "output_type": "stream",
     "text": [
      "Number of months: 183\n"
     ]
    }
   ],
   "source": [
    "#Output\n",
    "print(\"Number of months:\", months)"
   ]
  },
  {
   "cell_type": "code",
   "execution_count": null,
   "metadata": {},
   "outputs": [],
   "source": []
  }
 ],
 "metadata": {
  "kernelspec": {
   "display_name": "Python 3",
   "language": "python",
   "name": "python3"
  },
  "language_info": {
   "codemirror_mode": {
    "name": "ipython",
    "version": 3
   },
   "file_extension": ".py",
   "mimetype": "text/x-python",
   "name": "python",
   "nbconvert_exporter": "python",
   "pygments_lexer": "ipython3",
   "version": "3.8.5"
  }
 },
 "nbformat": 4,
 "nbformat_minor": 2
}
