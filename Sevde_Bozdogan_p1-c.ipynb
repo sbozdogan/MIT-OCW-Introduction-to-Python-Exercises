{
 "cells": [
  {
   "cell_type": "code",
   "execution_count": 2,
   "metadata": {},
   "outputs": [
    {
     "name": "stdout",
     "output_type": "stream",
     "text": [
      "Enter the starting salary: 10000\n"
     ]
    }
   ],
   "source": [
    "#Input\n",
    "start_salary = int(input(\"Enter the starting salary: \"))"
   ]
  },
  {
   "cell_type": "code",
   "execution_count": 11,
   "metadata": {},
   "outputs": [],
   "source": [
    "total_cost = 1000000"
   ]
  },
  {
   "cell_type": "code",
   "execution_count": 12,
   "metadata": {},
   "outputs": [],
   "source": [
    "semi_annual_raise = 0.07"
   ]
  },
  {
   "cell_type": "code",
   "execution_count": 13,
   "metadata": {},
   "outputs": [],
   "source": [
    "current_savings = 0"
   ]
  },
  {
   "cell_type": "code",
   "execution_count": 14,
   "metadata": {},
   "outputs": [],
   "source": [
    "portion_down_payment = 0.25 * total_cost"
   ]
  },
  {
   "cell_type": "code",
   "execution_count": 15,
   "metadata": {},
   "outputs": [],
   "source": [
    "steps = 0\n",
    "low = 0\n",
    "high = 10000\n",
    "months = 36\n",
    "reach = False"
   ]
  },
  {
   "cell_type": "code",
   "execution_count": 16,
   "metadata": {},
   "outputs": [],
   "source": [
    "portion_saved = int((high + low) / 2)"
   ]
  },
  {
   "cell_type": "code",
   "execution_count": 17,
   "metadata": {},
   "outputs": [],
   "source": [
    "while abs(low - high) > 1:\n",
    "    steps += 1\n",
    "    annual_salary = start_salary\n",
    "    monthly_saved = (annual_salary / 12.0) * (portion_saved / 10000)\n",
    "    current_savings = 0\n",
    "\n",
    "    for i in range(1, months + 1):\n",
    "        monthly_return = current_savings * (0.04 / 12)\n",
    "        current_savings += monthly_return + monthly_saved\n",
    "\n",
    "        if abs(current_savings - portion_down_payment) < 100:\n",
    "            low = high\n",
    "            reach = True\n",
    "            break\n",
    "        elif current_savings > portion_down_payment + 100:\n",
    "            break\n",
    "        \n",
    "        if i % 6 == 0:\n",
    "            annual_salary += annual_salary * semi_annual_raise\n",
    "            monthly_saved = (annual_salary / 12.0) * (portion_saved / 10000)\n",
    "\n",
    "    if current_savings < portion_down_payment - 100:\n",
    "        low = portion_saved\n",
    "    elif current_savings > portion_down_payment + 100:\n",
    "        high = portion_saved\n",
    "    \n",
    "    portion_saved = int((high + low) / 2)"
   ]
  },
  {
   "cell_type": "code",
   "execution_count": 18,
   "metadata": {},
   "outputs": [
    {
     "name": "stdout",
     "output_type": "stream",
     "text": [
      "Is is not possible to pay the down payment in three years\n"
     ]
    }
   ],
   "source": [
    "#Output\n",
    "if reach:\n",
    "    print(\"Best savings rate:\", portion_saved / 10000)\n",
    "    print(\"Steps in bisection search\", steps)\n",
    "else:\n",
    "    print(\"Is is not possible to pay the down payment in three years\")"
   ]
  },
  {
   "cell_type": "code",
   "execution_count": null,
   "metadata": {},
   "outputs": [],
   "source": []
  },
  {
   "cell_type": "code",
   "execution_count": null,
   "metadata": {},
   "outputs": [],
   "source": []
  }
 ],
 "metadata": {
  "kernelspec": {
   "display_name": "Python 3",
   "language": "python",
   "name": "python3"
  },
  "language_info": {
   "codemirror_mode": {
    "name": "ipython",
    "version": 3
   },
   "file_extension": ".py",
   "mimetype": "text/x-python",
   "name": "python",
   "nbconvert_exporter": "python",
   "pygments_lexer": "ipython3",
   "version": "3.6.5"
  }
 },
 "nbformat": 4,
 "nbformat_minor": 2
}
